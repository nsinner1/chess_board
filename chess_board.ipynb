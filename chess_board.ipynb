{
 "cells": [
  {
   "cell_type": "code",
   "execution_count": 3,
   "metadata": {},
   "outputs": [],
   "source": [
    "import numpy as np\n",
    "import matplotlib.pyplot as plt"
   ]
  },
  {
   "cell_type": "code",
   "execution_count": 16,
   "metadata": {},
   "outputs": [],
   "source": [
    "class Board:\n",
    "\n",
    "    red = [1,.2,0]\n",
    "    blue = [0,1,1]  \n",
    "\n",
    "    def __init__(self): \n",
    "        self.grid = np.ones((8,8,3)) \n",
    "        for coords in np.ndindex(8,8):\n",
    "            row = coords[0]\n",
    "            col = coords[1]\n",
    "            if row % 2 != col % 2:\n",
    "                self.grid[row, col] = [0,0,0]\n",
    "\n",
    "    def add_red(self, row, col):\n",
    "        self.grid[row][col] = self.red\n",
    "\n",
    "    def add_blue(self, row, col):\n",
    "        self.grid[row][col] = self.blue\n",
    "\n",
    "    def render(self):\n",
    "        plt.imshow(self.grid)\n",
    "\n",
    "    def under_attack(self):\n",
    "        red_location = None\n",
    "        blue_location = None\n",
    " \n",
    "        for i,row in enumerate(self.grid):\n",
    "            for j,col in enumerate(row):\n",
    "                if np.array_equal(col,self.blue):\n",
    "                    blue_location = (i,j)\n",
    "                if np.array_equal(col,self.red):\n",
    "                    red_location = (i,j)\n",
    "    \n",
    "        if not blue_location or not red_location:\n",
    "            return False\n",
    "        \n",
    "        if blue_location[0] == red_location[0] or blue_location[1] == red_location[1]:\n",
    "            return True\n",
    "\n",
    "        dx = abs(blue_location[0] - red_location[0])\n",
    "        dy = abs(blue_location[1] - red_location[1])\n",
    "\n",
    "        return dx == dy"
   ]
  },
  {
   "cell_type": "code",
   "execution_count": 17,
   "metadata": {},
   "outputs": [
    {
     "data": {
      "image/png": "[encoded data removed]",
      "text/plain": [
       "<Figure size 432x288 with 1 Axes>"
      ]
     },
     "metadata": {
      "needs_background": "light"
     },
     "output_type": "display_data"
    }
   ],
   "source": [
    "board = Board()\n",
    "board.render()"
   ]
  },
  {
   "cell_type": "code",
   "execution_count": 18,
   "metadata": {},
   "outputs": [
    {
     "data": {
      "image/png": "[encoded data removed]",
      "text/plain": [
       "<Figure size 432x288 with 1 Axes>"
      ]
     },
     "metadata": {
      "needs_background": "light"
     },
     "output_type": "display_data"
    }
   ],
   "source": [
    "board = Board()\n",
    "board.add_red(5,6)\n",
    "board.add_blue(3,5)\n",
    "board.render()"
   ]
  },
  {
   "cell_type": "code",
   "execution_count": 19,
   "metadata": {},
   "outputs": [
    {
     "name": "stdout",
     "output_type": "stream",
     "text": [
      "Queen is under attack\n"
     ]
    },
    {
     "data": {
      "image/png": "[encoded data removed]",
      "text/plain": [
       "<Figure size 432x288 with 1 Axes>"
      ]
     },
     "metadata": {
      "needs_background": "light"
     },
     "output_type": "display_data"
    }
   ],
   "source": [
    "board = Board()\n",
    "board.add_red(5,3)\n",
    "board.add_blue(5,7)\n",
    "\n",
    "board.render()\n",
    "\n",
    "assert board.under_attack()\n",
    "print('Queen is under attack')"
   ]
  },
  {
   "cell_type": "code",
   "execution_count": 20,
   "metadata": {},
   "outputs": [
    {
     "name": "stdout",
     "output_type": "stream",
     "text": [
      "Queen is under attack\n"
     ]
    },
    {
     "data": {
      "image/png": "[encoded data removed]",
      "text/plain": [
       "<Figure size 432x288 with 1 Axes>"
      ]
     },
     "metadata": {
      "needs_background": "light"
     },
     "output_type": "display_data"
    }
   ],
   "source": [
    "board = Board()\n",
    "board.add_red(3,5)\n",
    "board.add_blue(6,5)\n",
    "board.render()\n",
    "assert board.under_attack()\n",
    "print('Queen is under attack')"
   ]
  },
  {
   "cell_type": "code",
   "execution_count": 21,
   "metadata": {},
   "outputs": [
    {
     "name": "stdout",
     "output_type": "stream",
     "text": [
      "Queen is under attack\n"
     ]
    },
    {
     "data": {
      "image/png": "[encoded data removed]",
      "text/plain": [
       "<Figure size 432x288 with 1 Axes>"
      ]
     },
     "metadata": {
      "needs_background": "light"
     },
     "output_type": "display_data"
    }
   ],
   "source": [
    "board = Board()\n",
    "board.add_red(2,2)\n",
    "board.add_blue(6,6)\n",
    "board.render()\n",
    "assert board.under_attack()\n",
    "print('Queen is under attack')"
   ]
  },
  {
   "cell_type": "code",
   "execution_count": 22,
   "metadata": {},
   "outputs": [
    {
     "name": "stdout",
     "output_type": "stream",
     "text": [
      "Queen is not under attack\n"
     ]
    },
    {
     "data": {
      "image/png": "[encoded data removed]",
      "text/plain": [
       "<Figure size 432x288 with 1 Axes>"
      ]
     },
     "metadata": {
      "needs_background": "light"
     },
     "output_type": "display_data"
    }
   ],
   "source": [
    "board = Board()\n",
    "board.add_red(3,3)\n",
    "board.add_blue(6,4)\n",
    "board.render()\n",
    "assert not board.under_attack()\n",
    "print('Queen is not under attack')"
   ]
  },
  {
   "cell_type": "code",
   "execution_count": null,
   "metadata": {},
   "outputs": [],
   "source": []
  }
 ],
 "metadata": {
  "file_extension": ".py",
  "kernelspec": {
   "display_name": "Python 3",
   "language": "python",
   "name": "python3"
  },
  "language_info": {
   "codemirror_mode": {
    "name": "ipython",
    "version": 3
   },
   "file_extension": ".py",
   "mimetype": "text/x-python",
   "name": "python",
   "nbconvert_exporter": "python",
   "pygments_lexer": "ipython3",
   "version": "3.8.2"
  },
  "mimetype": "text/x-python",
  "name": "python",
  "npconvert_exporter": "python",
  "pygments_lexer": "ipython3",
  "version": 3
 },
 "nbformat": 4,
 "nbformat_minor": 4
}
